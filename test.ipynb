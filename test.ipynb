{
 "cells": [
  {
   "cell_type": "code",
   "execution_count": 1,
   "metadata": {},
   "outputs": [
    {
     "name": "stderr",
     "output_type": "stream",
     "text": [
      "/Users/timcares/miniconda3/envs/fairseq/lib/python3.8/site-packages/tqdm/auto.py:21: TqdmWarning: IProgress not found. Please update jupyter and ipywidgets. See https://ipywidgets.readthedocs.io/en/stable/user_install.html\n",
      "  from .autonotebook import tqdm as notebook_tqdm\n"
     ]
    }
   ],
   "source": [
    "from examples.data2vec.models.image_classification import Data2VecImageClassificationConfig, ImageClassificationModel\n",
    "from multimodal_data2vec import KDData2VecPreTrainingLightningModule"
   ]
  },
  {
   "cell_type": "code",
   "execution_count": 2,
   "metadata": {},
   "outputs": [],
   "source": [
    "cfg=Data2VecImageClassificationConfig(model_path='/Users/timcares/Downloads/mm-d2v-30000-0.4028.ckpt')"
   ]
  },
  {
   "cell_type": "code",
   "execution_count": 3,
   "metadata": {},
   "outputs": [
    {
     "name": "stderr",
     "output_type": "stream",
     "text": [
      "DEBUG:fsspec.local:open file: /Users/timcares/Downloads/mm-d2v-30000-0.4028.ckpt\n",
      "INFO:multimodal_data2vec:Modality used: Modality.IMAGE\n",
      "INFO:data2vec_fairseq.models.data2vec2:making target model\n",
      "/Users/timcares/miniconda3/envs/fairseq/lib/python3.8/site-packages/torch/nn/modules/module.py:1898: UserWarning: Positional args are being deprecated, use kwargs instead. Refer to https://pytorch.org/docs/master/generated/torch.nn.Module.html#torch.nn.Module.state_dict for details.\n",
      "  warnings.warn(\n",
      "INFO:multimodal_data2vec:Loaded state dict, result: <All keys matched successfully>\n",
      "INFO:multimodal_data2vec:Loading modality encoder for: Modality.IMAGE\n",
      "INFO:multimodal_data2vec:Modality used: Modality.IMAGE\n",
      "INFO:data2vec_fairseq.models.data2vec2:making target model\n",
      "INFO:multimodal_data2vec:Loaded state dict, result: <All keys matched successfully>\n",
      "INFO:multimodal_data2vec:local_encoder has 590592 parameters\n",
      "INFO:multimodal_data2vec:project_features has 0 parameters\n",
      "INFO:multimodal_data2vec:fixed_positional_encoder has 150528 parameters\n",
      "INFO:multimodal_data2vec:context_encoder has 1536 parameters\n",
      "INFO:multimodal_data2vec:Initializing blocks from pretrained mode: Modality.IMAGE\n",
      "INFO:multimodal_data2vec:Init type: attention\n",
      "INFO:multimodal_data2vec:Taking pretrained block indices: [0, 1, 2, 3, 4]\n",
      "INFO:multimodal_data2vec:Freezing all attention blocks\n"
     ]
    }
   ],
   "source": [
    "m=ImageClassificationModel(cfg=cfg)"
   ]
  },
  {
   "cell_type": "code",
   "execution_count": 8,
   "metadata": {},
   "outputs": [
    {
     "name": "stdout",
     "output_type": "stream",
     "text": [
      "Modality.IMAGE\n"
     ]
    }
   ],
   "source": [
    "from examples.data2vec.data.modality import Modality\n",
    "print(Modality.IMAGE)"
   ]
  },
  {
   "cell_type": "code",
   "execution_count": 9,
   "metadata": {},
   "outputs": [
    {
     "data": {
      "text/plain": [
       "True"
      ]
     },
     "execution_count": 9,
     "metadata": {},
     "output_type": "execute_result"
    }
   ],
   "source": [
    "Modality.IMAGE in [Modality.IMAGE]"
   ]
  }
 ],
 "metadata": {
  "kernelspec": {
   "display_name": "fairseq",
   "language": "python",
   "name": "python3"
  },
  "language_info": {
   "codemirror_mode": {
    "name": "ipython",
    "version": 3
   },
   "file_extension": ".py",
   "mimetype": "text/x-python",
   "name": "python",
   "nbconvert_exporter": "python",
   "pygments_lexer": "ipython3",
   "version": "3.8.19"
  }
 },
 "nbformat": 4,
 "nbformat_minor": 2
}
